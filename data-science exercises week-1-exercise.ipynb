{
 "cells": [
  {
   "cell_type": "code",
   "execution_count": 1,
   "id": "9e5a68df",
   "metadata": {},
   "outputs": [],
   "source": [
    "#Exercise 1:\n",
    "#Write a function that receives a list as parameter and return how many elements it has; if it doesn't have any element return an error."
   ]
  },
  {
   "cell_type": "code",
   "execution_count": 3,
   "id": "c00dc15b",
   "metadata": {},
   "outputs": [
    {
     "name": "stdout",
     "output_type": "stream",
     "text": [
      "5\n"
     ]
    }
   ],
   "source": [
    "#Solution 1:\n",
    "\n",
    "def count_elements(lst):\n",
    " \n",
    "    if not lst:\n",
    "        return \n",
    "    else:\n",
    "        return len(lst)\n",
    "my_list = [1, 2, 3, 4, 5]\n",
    "result = count_elements(my_list)\n",
    "print(result)"
   ]
  },
  {
   "cell_type": "code",
   "execution_count": 4,
   "id": "f51b1a4b",
   "metadata": {},
   "outputs": [],
   "source": [
    "#Exercise 2:\n",
    "#Write a function that receives a string as parameter and return the number of each character in it."
   ]
  },
  {
   "cell_type": "code",
   "execution_count": null,
   "id": "d82cbf74",
   "metadata": {},
   "outputs": [],
   "source": [
    "#Solution 2:\n",
    "\n",
    "def count_characters(input_string):\n",
    "    char_count = {}\n",
    "    \n",
    "    for char in input_string:\n",
    "        if char in char_count:\n",
    "            char_count[char] += 1\n",
    "        else:\n",
    "            char_count[char] = 1\n",
    "    \n",
    "    return char_count\n",
    "\n",
    "sample_string = \"exercise\"\n",
    "result = count_characters(sample_string)\n",
    "print(result)"
   ]
  }
 ],
 "metadata": {
  "kernelspec": {
   "display_name": "Python 3 (ipykernel)",
   "language": "python",
   "name": "python3"
  },
  "language_info": {
   "codemirror_mode": {
    "name": "ipython",
    "version": 3
   },
   "file_extension": ".py",
   "mimetype": "text/x-python",
   "name": "python",
   "nbconvert_exporter": "python",
   "pygments_lexer": "ipython3",
   "version": "3.9.13"
  }
 },
 "nbformat": 4,
 "nbformat_minor": 5
}
